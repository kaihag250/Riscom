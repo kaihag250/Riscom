{
  "cells": [
    {
      "cell_type": "code",
      "execution_count": 43,
      "id": "7e93201e",
      "metadata": {
        "id": "7e93201e"
      },
      "outputs": [],
      "source": [
        "# 📘 T5-Large Fine-Tuning with PEFT LoRA on Risk Communication Dataset"
      ]
    },
    {
      "cell_type": "code",
      "execution_count": 44,
      "id": "fac22b21",
      "metadata": {
        "id": "fac22b21"
      },
      "outputs": [],
      "source": [
        "# 🛠️ 1. Install Required Libraries\n",
        "!pip install -q transformers datasets peft accelerate sentencepiece"
      ]
    },
    {
      "cell_type": "code",
      "execution_count": 45,
      "id": "88a88116",
      "metadata": {
        "id": "88a88116"
      },
      "outputs": [],
      "source": [
        "# 📥 2. Load and Preprocess the Dataset\n",
        "from datasets import load_dataset\n",
        "from transformers import T5Tokenizer"
      ]
    },
    {
      "cell_type": "code",
      "execution_count": 46,
      "id": "450992f6",
      "metadata": {
        "id": "450992f6"
      },
      "outputs": [],
      "source": [
        "# Upload CSV manually via Colab UI or mount Google Drive\n",
        "file_path = \"/content/risk_data_formatted.csv\"  # <-- replace if needed"
      ]
    },
    {
      "cell_type": "code",
      "execution_count": 47,
      "id": "34731a57",
      "metadata": {
        "id": "34731a57"
      },
      "outputs": [],
      "source": [
        "import pandas as pd\n",
        "from datasets import Dataset, DatasetDict\n",
        "\n",
        "# Load the CSV file into a pandas DataFrame\n",
        "df = pd.read_csv(file_path)\n",
        "\n",
        "# Convert the pandas DataFrame to a datasets Dataset\n",
        "# Assuming the CSV has 'input' and 'output' columns\n",
        "dataset = Dataset.from_pandas(df)\n",
        "\n",
        "# Rename columns as in the original code\n",
        "dataset = dataset.rename_columns({\"input\": \"input_text\", \"output\": \"target_text\"})\n",
        "\n",
        "# Split the dataset\n",
        "# Convert the single Dataset object into a DatasetDict with 'train' and 'test' splits\n",
        "train_test_split = dataset.train_test_split(test_size=0.1)\n",
        "dataset = DatasetDict({'train': train_test_split['train'], 'test': train_test_split['test']})"
      ]
    },
    {
      "cell_type": "code",
      "execution_count": 48,
      "id": "m_WSORAW6zRY",
      "metadata": {
        "colab": {
          "base_uri": "https://localhost:8080/",
          "height": 81,
          "referenced_widgets": [
            "fa2b66ef3c3a47a4a10f6cbf44cc4f47",
            "4c934d6f666f4a2880e13fc4890a81bb",
            "85427eda751f4f8a896af63f98e86ab1",
            "ef770b1138df4b4ab78fd23df1173ece",
            "a598d873216a45e5ba11e950853fa5f1",
            "cc4cc203032f460e8d348de7820eaf8a",
            "ef9618ba02ac4afbadad4ce2788a7835",
            "badf6a47f4ae48ba9527925ac2e3ccaa",
            "941209fcfacc4f6e8b814f8d28839873",
            "1e9e19952979424e9ebf58930be714f4",
            "a9e689d09895461ab20e267136647606",
            "a735fe64ff6b4ee883d93c6213d51b95",
            "1d2fc0ba102046b395d3142815c2c4c8",
            "7b0ae640f59842229f6c3353da3c07ca",
            "f7029bb3b873489584cad89ef1d93a71",
            "84efdbb372da45b6beccc2246e57806c",
            "107f006a9e0844bfb4538237fcfb9541",
            "f094527df61643529196a5185de2f74b",
            "0212fd1dab3b45bb9688295ed189cf88",
            "66256db351a6452c86ce0b96c20c2216",
            "4b1c49c292b4475b9bad567bf8e0c66d",
            "2dabf879e1464979b203da510e63fb01"
          ]
        },
        "id": "m_WSORAW6zRY",
        "outputId": "d1bdacab-1330-4568-e04d-e133689988e6"
      },
      "outputs": [
        {
          "output_type": "display_data",
          "data": {
            "text/plain": [
              "Map:   0%|          | 0/486 [00:00<?, ? examples/s]"
            ],
            "application/vnd.jupyter.widget-view+json": {
              "version_major": 2,
              "version_minor": 0,
              "model_id": "fa2b66ef3c3a47a4a10f6cbf44cc4f47"
            }
          },
          "metadata": {}
        },
        {
          "output_type": "display_data",
          "data": {
            "text/plain": [
              "Map:   0%|          | 0/54 [00:00<?, ? examples/s]"
            ],
            "application/vnd.jupyter.widget-view+json": {
              "version_major": 2,
              "version_minor": 0,
              "model_id": "a735fe64ff6b4ee883d93c6213d51b95"
            }
          },
          "metadata": {}
        }
      ],
      "source": [
        "# Add prompt to each input_text\n",
        "def add_prompt_prefix(example):\n",
        "    example[\"input_text\"] = f\"Extract structured  risk information from the following sentence: {example['input_text']}\"\n",
        "    return example\n",
        "\n",
        "dataset = dataset.map(add_prompt_prefix)\n"
      ]
    },
    {
      "cell_type": "code",
      "execution_count": 49,
      "id": "39d1ecac",
      "metadata": {
        "id": "39d1ecac"
      },
      "outputs": [],
      "source": [
        "tokenizer = T5Tokenizer.from_pretrained(\"t5-large\")"
      ]
    },
    {
      "cell_type": "code",
      "execution_count": 50,
      "id": "6aae552e",
      "metadata": {
        "id": "6aae552e"
      },
      "outputs": [],
      "source": [
        "def preprocess(example):\n",
        "    input_enc = tokenizer(example[\"input_text\"], truncation=True, padding=\"max_length\", max_length=512)\n",
        "    target_enc = tokenizer(example[\"target_text\"], truncation=True, padding=\"max_length\", max_length=512)\n",
        "    input_enc[\"labels\"] = target_enc[\"input_ids\"]\n",
        "    return input_enc"
      ]
    },
    {
      "cell_type": "code",
      "execution_count": 51,
      "id": "c6403f79",
      "metadata": {
        "colab": {
          "base_uri": "https://localhost:8080/",
          "height": 81,
          "referenced_widgets": [
            "54f4e2f579e14ce8a6520f38c903274e",
            "fef5ebc459b04b5b98cedeca6bb01418",
            "36207a1900284846bd60730d37638459",
            "bd914d5bffb7416db8b5e887641cb89f",
            "c95936b559024781b4aae788f79dc510",
            "f778f46ed93b4078a45285caed73a5af",
            "5ca98603a0c942228c95bccf76cede90",
            "49569b7a85db4b5a87ebb62f90435a3f",
            "3de3fc29b6a04ce8860b0cb0316c24b5",
            "a31ef3a4cf8c4ef38a47e0d765faf6ed",
            "4a1fbfc8b03749319be070f7f8ca98f2",
            "05f7ac16a5ff4309a30c1753e76e5b94",
            "adde7037b95744eb85739942d9b5f15c",
            "c2bded3834f546a88c9bf34b87ffafdf",
            "f4dec4205ad2493c8d2eaee10cd449a1",
            "edd047305df8497bab605767acc944a4",
            "7b96c52f10524c44949aa22d9894949b",
            "cdbfa2e8118241fe84b6b2368019b65f",
            "d767baaff7b343a596192df35f0ebce7",
            "ce92ba0e3d1d411f876b992072f17c05",
            "b474b8871ea2405c8816809e623a162b",
            "841273f3f8c84190ba81778c969b4bba"
          ]
        },
        "id": "c6403f79",
        "outputId": "06d6fbc1-4cb6-4e4a-ee4b-fa28a203fbdd"
      },
      "outputs": [
        {
          "output_type": "display_data",
          "data": {
            "text/plain": [
              "Map:   0%|          | 0/486 [00:00<?, ? examples/s]"
            ],
            "application/vnd.jupyter.widget-view+json": {
              "version_major": 2,
              "version_minor": 0,
              "model_id": "54f4e2f579e14ce8a6520f38c903274e"
            }
          },
          "metadata": {}
        },
        {
          "output_type": "display_data",
          "data": {
            "text/plain": [
              "Map:   0%|          | 0/54 [00:00<?, ? examples/s]"
            ],
            "application/vnd.jupyter.widget-view+json": {
              "version_major": 2,
              "version_minor": 0,
              "model_id": "05f7ac16a5ff4309a30c1753e76e5b94"
            }
          },
          "metadata": {}
        }
      ],
      "source": [
        "tokenized_dataset = dataset.map(preprocess, batched=True, remove_columns=[\"input_text\", \"target_text\"])"
      ]
    },
    {
      "cell_type": "code",
      "execution_count": 52,
      "id": "4a1beae7",
      "metadata": {
        "id": "4a1beae7"
      },
      "outputs": [],
      "source": [
        "# 🔌 3. Load T5-Large and Apply LoRA\n",
        "from transformers import T5ForConditionalGeneration\n",
        "from peft import get_peft_model, LoraConfig, TaskType"
      ]
    },
    {
      "cell_type": "code",
      "execution_count": 53,
      "id": "01fa8047",
      "metadata": {
        "id": "01fa8047"
      },
      "outputs": [],
      "source": [
        "model = T5ForConditionalGeneration.from_pretrained(\"t5-large\")"
      ]
    },
    {
      "cell_type": "code",
      "execution_count": 54,
      "id": "09adb73a",
      "metadata": {
        "id": "09adb73a"
      },
      "outputs": [],
      "source": [
        "peft_config = LoraConfig(\n",
        "    task_type=TaskType.SEQ_2_SEQ_LM,\n",
        "    r=8,\n",
        "    lora_alpha=16,\n",
        "    lora_dropout=0.1,\n",
        "    bias=\"none\"\n",
        ")"
      ]
    },
    {
      "cell_type": "code",
      "execution_count": 55,
      "id": "fcd0dcf7",
      "metadata": {
        "colab": {
          "base_uri": "https://localhost:8080/"
        },
        "id": "fcd0dcf7",
        "outputId": "6eab6fbe-5a62-428e-9378-0ce822dbbb01"
      },
      "outputs": [
        {
          "output_type": "stream",
          "name": "stdout",
          "text": [
            "trainable params: 2,359,296 || all params: 740,027,392 || trainable%: 0.3188\n"
          ]
        }
      ],
      "source": [
        "model = get_peft_model(model, peft_config)\n",
        "model.print_trainable_parameters()"
      ]
    },
    {
      "cell_type": "code",
      "execution_count": 56,
      "id": "d89a03cd",
      "metadata": {
        "id": "d89a03cd"
      },
      "outputs": [],
      "source": [
        "# 🎯 4. Training Setup\n",
        "from transformers import TrainingArguments, Trainer, DataCollatorForSeq2Seq"
      ]
    },
    {
      "cell_type": "code",
      "execution_count": 57,
      "id": "f1b4200b",
      "metadata": {
        "id": "f1b4200b"
      },
      "outputs": [],
      "source": [
        "from transformers import TrainingArguments\n",
        "\n",
        "training_args = TrainingArguments(\n",
        "    output_dir=\"./t5_lora_risk_output\", #storage place of trained model\n",
        "    per_device_train_batch_size=1,\n",
        "    #gradient_accumulation_steps=4,\n",
        "    per_device_eval_batch_size=1,\n",
        "    num_train_epochs=5,\n",
        "    learning_rate=3e-4,\n",
        "    eval_strategy=\"epoch\",\n",
        "    save_strategy=\"epoch\",\n",
        "    logging_strategy=\"epoch\",         # ✅ Add this to log every epoch\n",
        "    logging_dir=\"./logs\",\n",
        "    report_to=\"none\",\n",
        "    logging_first_step=True,          # ✅ Optional: log on first step\n",
        ")\n"
      ]
    },
    {
      "cell_type": "code",
      "execution_count": 58,
      "id": "31e6c9eb",
      "metadata": {
        "colab": {
          "base_uri": "https://localhost:8080/"
        },
        "id": "31e6c9eb",
        "outputId": "9e4d9534-c49a-4204-df6c-92cfb99db512"
      },
      "outputs": [
        {
          "output_type": "stream",
          "name": "stderr",
          "text": [
            "<ipython-input-58-d5ca58da455c>:1: FutureWarning: `tokenizer` is deprecated and will be removed in version 5.0.0 for `Trainer.__init__`. Use `processing_class` instead.\n",
            "  trainer = Trainer(\n",
            "No label_names provided for model class `PeftModelForSeq2SeqLM`. Since `PeftModel` hides base models input arguments, if label_names is not given, label_names can't be set automatically within `Trainer`. Note that empty label_names list will be used instead.\n"
          ]
        }
      ],
      "source": [
        "trainer = Trainer(\n",
        "    model=model,\n",
        "    args=training_args,\n",
        "    train_dataset=tokenized_dataset[\"train\"],\n",
        "    eval_dataset=tokenized_dataset[\"test\"],\n",
        "    tokenizer=tokenizer,\n",
        "    data_collator=DataCollatorForSeq2Seq(tokenizer, model=model),\n",
        ")"
      ]
    },
    {
      "cell_type": "code",
      "execution_count": 59,
      "id": "6613b73d",
      "metadata": {
        "colab": {
          "base_uri": "https://localhost:8080/",
          "height": 415
        },
        "id": "6613b73d",
        "outputId": "3c6f36d1-21b3-4dd0-9566-dc1b393c92b0"
      },
      "outputs": [
        {
          "data": {
            "text/html": [
              "\n",
              "    <div>\n",
              "      \n",
              "      <progress value='1568' max='2430' style='width:300px; height:20px; vertical-align: middle;'></progress>\n",
              "      [1568/2430 19:00 < 10:27, 1.37 it/s, Epoch 3.22/5]\n",
              "    </div>\n",
              "    <table border=\"1\" class=\"dataframe\">\n",
              "  <thead>\n",
              " <tr style=\"text-align: left;\">\n",
              "      <th>Epoch</th>\n",
              "      <th>Training Loss</th>\n",
              "      <th>Validation Loss</th>\n",
              "    </tr>\n",
              "  </thead>\n",
              "  <tbody>\n",
              "    <tr>\n",
              "      <td>1</td>\n",
              "      <td>1.179200</td>\n",
              "      <td>0.169034</td>\n",
              "    </tr>\n",
              "    <tr>\n",
              "      <td>2</td>\n",
              "      <td>0.206200</td>\n",
              "      <td>0.135126</td>\n",
              "    </tr>\n",
              "    <tr>\n",
              "      <td>3</td>\n",
              "      <td>0.168500</td>\n",
              "      <td>0.123696</td>\n",
              "    </tr>\n",
              "  </tbody>\n",
              "</table><p>"
            ],
            "text/plain": [
              "<IPython.core.display.HTML object>"
            ]
          },
          "metadata": {},
          "output_type": "display_data"
        },
        {
          "output_type": "display_data",
          "data": {
            "text/plain": [
              "<IPython.core.display.HTML object>"
            ],
            "text/html": [
              "\n",
              "    <div>\n",
              "      \n",
              "      <progress value='2430' max='2430' style='width:300px; height:20px; vertical-align: middle;'></progress>\n",
              "      [2430/2430 29:37, Epoch 5/5]\n",
              "    </div>\n",
              "    <table border=\"1\" class=\"dataframe\">\n",
              "  <thead>\n",
              " <tr style=\"text-align: left;\">\n",
              "      <th>Epoch</th>\n",
              "      <th>Training Loss</th>\n",
              "      <th>Validation Loss</th>\n",
              "    </tr>\n",
              "  </thead>\n",
              "  <tbody>\n",
              "    <tr>\n",
              "      <td>1</td>\n",
              "      <td>1.179200</td>\n",
              "      <td>0.169034</td>\n",
              "    </tr>\n",
              "    <tr>\n",
              "      <td>2</td>\n",
              "      <td>0.206200</td>\n",
              "      <td>0.135126</td>\n",
              "    </tr>\n",
              "    <tr>\n",
              "      <td>3</td>\n",
              "      <td>0.168500</td>\n",
              "      <td>0.123696</td>\n",
              "    </tr>\n",
              "    <tr>\n",
              "      <td>4</td>\n",
              "      <td>0.152100</td>\n",
              "      <td>0.117321</td>\n",
              "    </tr>\n",
              "    <tr>\n",
              "      <td>5</td>\n",
              "      <td>0.142800</td>\n",
              "      <td>0.114935</td>\n",
              "    </tr>\n",
              "  </tbody>\n",
              "</table><p>"
            ]
          },
          "metadata": {}
        },
        {
          "output_type": "execute_result",
          "data": {
            "text/plain": [
              "TrainOutput(global_step=2430, training_loss=0.37840457727879656, metrics={'train_runtime': 1778.5561, 'train_samples_per_second': 1.366, 'train_steps_per_second': 1.366, 'total_flos': 5278676979548160.0, 'train_loss': 0.37840457727879656, 'epoch': 5.0})"
            ]
          },
          "metadata": {},
          "execution_count": 59
        }
      ],
      "source": [
        "trainer.train()"
      ]
    },
    {
      "cell_type": "code",
      "execution_count": 60,
      "id": "839c89af",
      "metadata": {
        "id": "839c89af"
      },
      "outputs": [],
      "source": [
        "# 🔍 5. Inference Function"
      ]
    },
    {
      "cell_type": "code",
      "execution_count": 61,
      "id": "dda752c1",
      "metadata": {
        "id": "dda752c1"
      },
      "outputs": [],
      "source": [
        "# 🔍 5. Inference Function\n",
        "# %%\n",
        "def predict(text):\n",
        "    prompt = f\"Extract structured risk information from the following sentence:  {text}\"\n",
        "    # Ensure inputs are on the correct device\n",
        "    inputs = tokenizer(prompt, return_tensors=\"pt\", truncation=True, padding=True).input_ids.cuda()\n",
        "    # Pass input_ids and max_length as keyword arguments\n",
        "    outputs = model.generate(input_ids=inputs, max_length=512) # Changed: Pass inputs as keyword argument\n",
        "    return tokenizer.decode(outputs[0], skip_special_tokens=True)\n",
        "\n",
        "\n",
        "\n"
      ]
    },
    {
      "cell_type": "code",
      "execution_count": 62,
      "id": "DGmSx76r_5fi",
      "metadata": {
        "colab": {
          "base_uri": "https://localhost:8080/"
        },
        "id": "DGmSx76r_5fi",
        "outputId": "89b9cc48-bb86-42fa-f8fe-23ee8f8b6ea3"
      },
      "outputs": [
        {
          "output_type": "stream",
          "name": "stderr",
          "text": [
            "Asking to truncate to max_length but no maximum length is provided and the model has no predefined maximum length. Default to no truncation.\n"
          ]
        },
        {
          "output_type": "stream",
          "name": "stdout",
          "text": [
            "\n",
            "Custom test case:\n",
            "\n",
            "Custom Input: Living in a city with high air pollution increases your risk of lung disease by 10%. While that may seem minor, it translates to an increase from 30 in 1,000 to 33 in 1,000 people developing chronic respiratory issues over a decade.\n",
            "Model Output: risk_communication: 1.0 single_case_base: 0.0 absolute_risk_base: null absolute_risk_new: null absolute_number_base: null absolute_number_new: null absolute_risk_difference: null relative_risk: null absolute_number_difference: null verbal_descriptor_base: null verbal_descriptor_new: null verbal_descriptor_change: increase population_size: null reference_class_size_base: null reference_class_size_new: null reference_class_description_base: people living in a city with high air pollution reference_class_description_new: people developing chronic respiratory issues over a decade source_base: null source_new: null topic_and_unit: risk of lung disease in %\n"
          ]
        }
      ],
      "source": [
        "# ✅ 6. Test on a custom example\n",
        "print(\"\\nCustom test case:\\n\")\n",
        "custom_text = (\n",
        "    \"Living in a city with high air pollution increases your risk of lung disease by 10%. \"\n",
        "    \"While that may seem minor, it translates to an increase from 30 in 1,000 to 33 in \"\n",
        "    \"1,000 people developing chronic respiratory issues over a decade.\"\n",
        ")\n",
        "predicted_custom_output = predict(custom_text)\n",
        "print(f\"Custom Input: {custom_text}\")\n",
        "print(f\"Model Output: {predicted_custom_output}\")"
      ]
    },
    {
      "cell_type": "code",
      "execution_count": 63,
      "id": "FjnhS0UuDo1o",
      "metadata": {
        "colab": {
          "base_uri": "https://localhost:8080/"
        },
        "id": "FjnhS0UuDo1o",
        "outputId": "4d91d743-a0d4-4dbb-952a-dfb5c97a63c3"
      },
      "outputs": [
        {
          "output_type": "stream",
          "name": "stderr",
          "text": [
            "Generating predictions: 100%|██████████| 54/54 [07:28<00:00,  8.31s/it]"
          ]
        },
        {
          "output_type": "stream",
          "name": "stdout",
          "text": [
            "\n",
            "=== Sample Comparison ===\n",
            "                                                                                                                                                                                                                                                                                                                                                                                                                                      input risk_communication single_case_base absolute_risk_base absolute_risk_new absolute_number_base absolute_number_new absolute_risk_difference   relative_risk absolute_number_difference verbal_descriptor_base verbal_descriptor_new verbal_descriptor_change population_size reference_class_size_base reference_class_size_new reference_class_description_base reference_class_description_new     source_base      source_new  topic_and_unit\n",
            "0                                                                                                    Extract structured  risk information from the following sentence: A study published in February in BMJ used the same pool of U.S. veterans as the Nature Medicine study and found a 35% increased risk of anxiety disorders after COVID-19, or 11 additional cases per 1,000 people after one year compared to those without COVID-19.                  ✅   ❌ (pred: null)                  ✅                 ✅                    ✅                   ✅           ❌ (pred: null)  ❌ (pred: null)             ❌ (pred: null)                      ✅                     ✅           ❌ (pred: null)               ✅                         ✅                        ✅                   ❌ (pred: null)                  ❌ (pred: null)  ❌ (pred: null)  ❌ (pred: null)  ❌ (pred: null)\n",
            "1  Extract structured  risk information from the following sentence: Most commercial property owners who have been impacted by natural catastrophes have recovered within six months of the event, with expenses for most totaling under $10,000. Thirty-one percent said damages totaled under $3,000, and only 1% reported they had over $50,000 in damages. Almost half (46%) reported that their insurance covered all of their damage.        ❌ (pred: 1)                ✅                  ✅                 ✅                    ✅                   ✅                        ✅               ✅                          ✅                      ✅                     ✅                        ✅               ✅                         ✅                        ✅                                ✅                               ✅               ✅               ✅               ✅\n",
            "2                               Extract structured  risk information from the following sentence: Recently, in her address to the Lok Sabha, Union Minister of State for Health, Anupriya Patel, highlighted India's progress in reducing maternal mortality- an achievement that certainly is cause for celebration. Our maternal mortality ratio fell dramatically, from 384 to 103 deaths per 100,000 live births between 2000 and 2020.                  ✅   ❌ (pred: null)     ❌ (pred: null)    ❌ (pred: null)                    ✅                   ✅                        ✅               ✅                          ✅                      ✅                     ✅           ❌ (pred: null)               ✅                         ✅                        ✅                   ❌ (pred: null)                  ❌ (pred: null)  ❌ (pred: null)  ❌ (pred: null)  ❌ (pred: null)\n",
            "\n",
            "=== Field-wise Accuracy ===\n",
            "risk_communication                                 → 83.3% (45/54)\n",
            "single_case_base                                   → 16.7% (9/54)\n",
            "absolute_risk_base                                 → 70.4% (38/54)\n",
            "absolute_risk_new                                  → 79.6% (43/54)\n",
            "absolute_number_base                               → 96.3% (52/54)\n",
            "absolute_number_new                                → 94.4% (51/54)\n",
            "absolute_risk_difference                           → 96.3% (52/54)\n",
            "relative_risk                                      → 61.1% (33/54)\n",
            "absolute_number_difference                         → 98.1% (53/54)\n",
            "verbal_descriptor_base                             → 94.4% (51/54)\n",
            "verbal_descriptor_new                              → 98.1% (53/54)\n",
            "verbal_descriptor_change                           → 61.1% (33/54)\n",
            "population_size                                    → 87.0% (47/54)\n",
            "reference_class_size_base                          → 90.7% (49/54)\n",
            "reference_class_size_new                           → 83.3% (45/54)\n",
            "reference_class_description_base                   → 24.1% (13/54)\n",
            "reference_class_description_new                    → 44.4% (24/54)\n",
            "source_base                                        → 64.8% (35/54)\n",
            "source_new                                         → 51.9% (28/54)\n",
            "topic_and_unit                                     → 44.4% (24/54)\n"
          ]
        },
        {
          "output_type": "stream",
          "name": "stderr",
          "text": [
            "\n"
          ]
        }
      ],
      "source": [
        "import pandas as pd\n",
        "import re\n",
        "from tqdm import tqdm\n",
        "\n",
        "# === Step 1: Extract the 10% test set ===\n",
        "test_inputs = dataset[\"test\"][\"input_text\"]\n",
        "test_outputs = dataset[\"test\"][\"target_text\"]\n",
        "\n",
        "# === Step 2: Generate model predictions ===\n",
        "pred_outputs = []\n",
        "for text in tqdm(test_inputs, desc=\"Generating predictions\"):\n",
        "    input_ids = tokenizer(text, return_tensors=\"pt\", truncation=True).input_ids.to(model.device)\n",
        "    output_ids = model.generate(input_ids=input_ids, max_length=512)\n",
        "    decoded = tokenizer.decode(output_ids[0], skip_special_tokens=True)\n",
        "    pred_outputs.append(decoded)\n",
        "\n",
        "# === Step 3: Save predictions and ground truth (optional) ===\n",
        "pd.DataFrame({\"input\": test_inputs, \"output\": test_outputs}).to_csv(\"ground_truth_test_only.csv\", index=False)\n",
        "pd.DataFrame({\"input\": test_inputs, \"output\": pred_outputs}).to_csv(\"model_outputs_test_only.csv\", index=False)\n",
        "\n",
        "# === Step 4: Evaluation Functionality ===\n",
        "\n",
        "def parse_output(text):\n",
        "    result = {}\n",
        "    for line in str(text).strip().split(\"\\n\"):\n",
        "        if \": \" in line:\n",
        "            key, value = line.split(\": \", 1)\n",
        "            result[key.strip()] = value.strip()\n",
        "    return result\n",
        "\n",
        "def normalize_value(val):\n",
        "    val = val.lower().strip()\n",
        "    if val in [\"null\", \"n/a\", \"none\", \"\"]:\n",
        "        return \"null\"\n",
        "    val = val.replace(\",\", \"\")\n",
        "    match = re.match(r\"([0-9.]+)\\s*(million|thousand)?\", val)\n",
        "    if match:\n",
        "        num, unit = match.groups()\n",
        "        num = float(num)\n",
        "        if unit == \"million\":\n",
        "            num *= 1_000_000\n",
        "        elif unit == \"thousand\":\n",
        "            num *= 1_000\n",
        "        return str(int(num)) if num.is_integer() else str(num)\n",
        "    return val\n",
        "\n",
        "# === Step 5: Compare predictions to ground truth ===\n",
        "field_stats = {}\n",
        "results = []\n",
        "\n",
        "for inp, true_text, pred_text in zip(test_inputs, test_outputs, pred_outputs):\n",
        "    true_dict = parse_output(true_text)\n",
        "    pred_dict = parse_output(pred_text)\n",
        "    row_result = {\"input\": inp}\n",
        "\n",
        "    for field in true_dict:\n",
        "        pred_val = normalize_value(pred_dict.get(field, \"null\"))\n",
        "        true_val = normalize_value(true_dict.get(field, \"null\"))\n",
        "        correct = (pred_val == true_val)\n",
        "        row_result[field] = \"✅\" if correct else f\"❌ (pred: {pred_val})\"\n",
        "        if field not in field_stats:\n",
        "            field_stats[field] = {\"correct\": 0, \"total\": 0}\n",
        "        field_stats[field][\"total\"] += 1\n",
        "        if correct:\n",
        "            field_stats[field][\"correct\"] += 1\n",
        "    results.append(row_result)\n",
        "\n",
        "# === Step 6: Show sample and summary ===\n",
        "results_df = pd.DataFrame(results)\n",
        "print(\"\\n=== Sample Comparison ===\")\n",
        "print(results_df.head(3).to_string())\n",
        "\n",
        "print(\"\\n=== Field-wise Accuracy ===\")\n",
        "for field, stats in field_stats.items():\n",
        "    acc = 100 * stats[\"correct\"] / stats[\"total\"]\n",
        "    print(f\"{field:50s} → {acc:.1f}% ({stats['correct']}/{stats['total']})\")\n",
        "\n"
      ]
    }
  ],
  "metadata": {
    "accelerator": "GPU",
    "colab": {
      "gpuType": "T4",
      "provenance": [],
      "toc_visible": true
    },
    "kernelspec": {
      "display_name": "Python 3",
      "name": "python3"
    },
    "language_info": {
      "name": "python"
    },
    "widgets": {
      "application/vnd.jupyter.widget-state+json": {
        "fa2b66ef3c3a47a4a10f6cbf44cc4f47": {
          "model_module": "@jupyter-widgets/controls",
          "model_name": "HBoxModel",
          "model_module_version": "1.5.0",
          "state": {
            "_dom_classes": [],
            "_model_module": "@jupyter-widgets/controls",
            "_model_module_version": "1.5.0",
            "_model_name": "HBoxModel",
            "_view_count": null,
            "_view_module": "@jupyter-widgets/controls",
            "_view_module_version": "1.5.0",
            "_view_name": "HBoxView",
            "box_style": "",
            "children": [
              "IPY_MODEL_4c934d6f666f4a2880e13fc4890a81bb",
              "IPY_MODEL_85427eda751f4f8a896af63f98e86ab1",
              "IPY_MODEL_ef770b1138df4b4ab78fd23df1173ece"
            ],
            "layout": "IPY_MODEL_a598d873216a45e5ba11e950853fa5f1"
          }
        },
        "4c934d6f666f4a2880e13fc4890a81bb": {
          "model_module": "@jupyter-widgets/controls",
          "model_name": "HTMLModel",
          "model_module_version": "1.5.0",
          "state": {
            "_dom_classes": [],
            "_model_module": "@jupyter-widgets/controls",
            "_model_module_version": "1.5.0",
            "_model_name": "HTMLModel",
            "_view_count": null,
            "_view_module": "@jupyter-widgets/controls",
            "_view_module_version": "1.5.0",
            "_view_name": "HTMLView",
            "description": "",
            "description_tooltip": null,
            "layout": "IPY_MODEL_cc4cc203032f460e8d348de7820eaf8a",
            "placeholder": "​",
            "style": "IPY_MODEL_ef9618ba02ac4afbadad4ce2788a7835",
            "value": "Map: 100%"
          }
        },
        "85427eda751f4f8a896af63f98e86ab1": {
          "model_module": "@jupyter-widgets/controls",
          "model_name": "FloatProgressModel",
          "model_module_version": "1.5.0",
          "state": {
            "_dom_classes": [],
            "_model_module": "@jupyter-widgets/controls",
            "_model_module_version": "1.5.0",
            "_model_name": "FloatProgressModel",
            "_view_count": null,
            "_view_module": "@jupyter-widgets/controls",
            "_view_module_version": "1.5.0",
            "_view_name": "ProgressView",
            "bar_style": "success",
            "description": "",
            "description_tooltip": null,
            "layout": "IPY_MODEL_badf6a47f4ae48ba9527925ac2e3ccaa",
            "max": 486,
            "min": 0,
            "orientation": "horizontal",
            "style": "IPY_MODEL_941209fcfacc4f6e8b814f8d28839873",
            "value": 486
          }
        },
        "ef770b1138df4b4ab78fd23df1173ece": {
          "model_module": "@jupyter-widgets/controls",
          "model_name": "HTMLModel",
          "model_module_version": "1.5.0",
          "state": {
            "_dom_classes": [],
            "_model_module": "@jupyter-widgets/controls",
            "_model_module_version": "1.5.0",
            "_model_name": "HTMLModel",
            "_view_count": null,
            "_view_module": "@jupyter-widgets/controls",
            "_view_module_version": "1.5.0",
            "_view_name": "HTMLView",
            "description": "",
            "description_tooltip": null,
            "layout": "IPY_MODEL_1e9e19952979424e9ebf58930be714f4",
            "placeholder": "​",
            "style": "IPY_MODEL_a9e689d09895461ab20e267136647606",
            "value": " 486/486 [00:00&lt;00:00, 7525.42 examples/s]"
          }
        },
        "a598d873216a45e5ba11e950853fa5f1": {
          "model_module": "@jupyter-widgets/base",
          "model_name": "LayoutModel",
          "model_module_version": "1.2.0",
          "state": {
            "_model_module": "@jupyter-widgets/base",
            "_model_module_version": "1.2.0",
            "_model_name": "LayoutModel",
            "_view_count": null,
            "_view_module": "@jupyter-widgets/base",
            "_view_module_version": "1.2.0",
            "_view_name": "LayoutView",
            "align_content": null,
            "align_items": null,
            "align_self": null,
            "border": null,
            "bottom": null,
            "display": null,
            "flex": null,
            "flex_flow": null,
            "grid_area": null,
            "grid_auto_columns": null,
            "grid_auto_flow": null,
            "grid_auto_rows": null,
            "grid_column": null,
            "grid_gap": null,
            "grid_row": null,
            "grid_template_areas": null,
            "grid_template_columns": null,
            "grid_template_rows": null,
            "height": null,
            "justify_content": null,
            "justify_items": null,
            "left": null,
            "margin": null,
            "max_height": null,
            "max_width": null,
            "min_height": null,
            "min_width": null,
            "object_fit": null,
            "object_position": null,
            "order": null,
            "overflow": null,
            "overflow_x": null,
            "overflow_y": null,
            "padding": null,
            "right": null,
            "top": null,
            "visibility": null,
            "width": null
          }
        },
        "cc4cc203032f460e8d348de7820eaf8a": {
          "model_module": "@jupyter-widgets/base",
          "model_name": "LayoutModel",
          "model_module_version": "1.2.0",
          "state": {
            "_model_module": "@jupyter-widgets/base",
            "_model_module_version": "1.2.0",
            "_model_name": "LayoutModel",
            "_view_count": null,
            "_view_module": "@jupyter-widgets/base",
            "_view_module_version": "1.2.0",
            "_view_name": "LayoutView",
            "align_content": null,
            "align_items": null,
            "align_self": null,
            "border": null,
            "bottom": null,
            "display": null,
            "flex": null,
            "flex_flow": null,
            "grid_area": null,
            "grid_auto_columns": null,
            "grid_auto_flow": null,
            "grid_auto_rows": null,
            "grid_column": null,
            "grid_gap": null,
            "grid_row": null,
            "grid_template_areas": null,
            "grid_template_columns": null,
            "grid_template_rows": null,
            "height": null,
            "justify_content": null,
            "justify_items": null,
            "left": null,
            "margin": null,
            "max_height": null,
            "max_width": null,
            "min_height": null,
            "min_width": null,
            "object_fit": null,
            "object_position": null,
            "order": null,
            "overflow": null,
            "overflow_x": null,
            "overflow_y": null,
            "padding": null,
            "right": null,
            "top": null,
            "visibility": null,
            "width": null
          }
        },
        "ef9618ba02ac4afbadad4ce2788a7835": {
          "model_module": "@jupyter-widgets/controls",
          "model_name": "DescriptionStyleModel",
          "model_module_version": "1.5.0",
          "state": {
            "_model_module": "@jupyter-widgets/controls",
            "_model_module_version": "1.5.0",
            "_model_name": "DescriptionStyleModel",
            "_view_count": null,
            "_view_module": "@jupyter-widgets/base",
            "_view_module_version": "1.2.0",
            "_view_name": "StyleView",
            "description_width": ""
          }
        },
        "badf6a47f4ae48ba9527925ac2e3ccaa": {
          "model_module": "@jupyter-widgets/base",
          "model_name": "LayoutModel",
          "model_module_version": "1.2.0",
          "state": {
            "_model_module": "@jupyter-widgets/base",
            "_model_module_version": "1.2.0",
            "_model_name": "LayoutModel",
            "_view_count": null,
            "_view_module": "@jupyter-widgets/base",
            "_view_module_version": "1.2.0",
            "_view_name": "LayoutView",
            "align_content": null,
            "align_items": null,
            "align_self": null,
            "border": null,
            "bottom": null,
            "display": null,
            "flex": null,
            "flex_flow": null,
            "grid_area": null,
            "grid_auto_columns": null,
            "grid_auto_flow": null,
            "grid_auto_rows": null,
            "grid_column": null,
            "grid_gap": null,
            "grid_row": null,
            "grid_template_areas": null,
            "grid_template_columns": null,
            "grid_template_rows": null,
            "height": null,
            "justify_content": null,
            "justify_items": null,
            "left": null,
            "margin": null,
            "max_height": null,
            "max_width": null,
            "min_height": null,
            "min_width": null,
            "object_fit": null,
            "object_position": null,
            "order": null,
            "overflow": null,
            "overflow_x": null,
            "overflow_y": null,
            "padding": null,
            "right": null,
            "top": null,
            "visibility": null,
            "width": null
          }
        },
        "941209fcfacc4f6e8b814f8d28839873": {
          "model_module": "@jupyter-widgets/controls",
          "model_name": "ProgressStyleModel",
          "model_module_version": "1.5.0",
          "state": {
            "_model_module": "@jupyter-widgets/controls",
            "_model_module_version": "1.5.0",
            "_model_name": "ProgressStyleModel",
            "_view_count": null,
            "_view_module": "@jupyter-widgets/base",
            "_view_module_version": "1.2.0",
            "_view_name": "StyleView",
            "bar_color": null,
            "description_width": ""
          }
        },
        "1e9e19952979424e9ebf58930be714f4": {
          "model_module": "@jupyter-widgets/base",
          "model_name": "LayoutModel",
          "model_module_version": "1.2.0",
          "state": {
            "_model_module": "@jupyter-widgets/base",
            "_model_module_version": "1.2.0",
            "_model_name": "LayoutModel",
            "_view_count": null,
            "_view_module": "@jupyter-widgets/base",
            "_view_module_version": "1.2.0",
            "_view_name": "LayoutView",
            "align_content": null,
            "align_items": null,
            "align_self": null,
            "border": null,
            "bottom": null,
            "display": null,
            "flex": null,
            "flex_flow": null,
            "grid_area": null,
            "grid_auto_columns": null,
            "grid_auto_flow": null,
            "grid_auto_rows": null,
            "grid_column": null,
            "grid_gap": null,
            "grid_row": null,
            "grid_template_areas": null,
            "grid_template_columns": null,
            "grid_template_rows": null,
            "height": null,
            "justify_content": null,
            "justify_items": null,
            "left": null,
            "margin": null,
            "max_height": null,
            "max_width": null,
            "min_height": null,
            "min_width": null,
            "object_fit": null,
            "object_position": null,
            "order": null,
            "overflow": null,
            "overflow_x": null,
            "overflow_y": null,
            "padding": null,
            "right": null,
            "top": null,
            "visibility": null,
            "width": null
          }
        },
        "a9e689d09895461ab20e267136647606": {
          "model_module": "@jupyter-widgets/controls",
          "model_name": "DescriptionStyleModel",
          "model_module_version": "1.5.0",
          "state": {
            "_model_module": "@jupyter-widgets/controls",
            "_model_module_version": "1.5.0",
            "_model_name": "DescriptionStyleModel",
            "_view_count": null,
            "_view_module": "@jupyter-widgets/base",
            "_view_module_version": "1.2.0",
            "_view_name": "StyleView",
            "description_width": ""
          }
        },
        "a735fe64ff6b4ee883d93c6213d51b95": {
          "model_module": "@jupyter-widgets/controls",
          "model_name": "HBoxModel",
          "model_module_version": "1.5.0",
          "state": {
            "_dom_classes": [],
            "_model_module": "@jupyter-widgets/controls",
            "_model_module_version": "1.5.0",
            "_model_name": "HBoxModel",
            "_view_count": null,
            "_view_module": "@jupyter-widgets/controls",
            "_view_module_version": "1.5.0",
            "_view_name": "HBoxView",
            "box_style": "",
            "children": [
              "IPY_MODEL_1d2fc0ba102046b395d3142815c2c4c8",
              "IPY_MODEL_7b0ae640f59842229f6c3353da3c07ca",
              "IPY_MODEL_f7029bb3b873489584cad89ef1d93a71"
            ],
            "layout": "IPY_MODEL_84efdbb372da45b6beccc2246e57806c"
          }
        },
        "1d2fc0ba102046b395d3142815c2c4c8": {
          "model_module": "@jupyter-widgets/controls",
          "model_name": "HTMLModel",
          "model_module_version": "1.5.0",
          "state": {
            "_dom_classes": [],
            "_model_module": "@jupyter-widgets/controls",
            "_model_module_version": "1.5.0",
            "_model_name": "HTMLModel",
            "_view_count": null,
            "_view_module": "@jupyter-widgets/controls",
            "_view_module_version": "1.5.0",
            "_view_name": "HTMLView",
            "description": "",
            "description_tooltip": null,
            "layout": "IPY_MODEL_107f006a9e0844bfb4538237fcfb9541",
            "placeholder": "​",
            "style": "IPY_MODEL_f094527df61643529196a5185de2f74b",
            "value": "Map: 100%"
          }
        },
        "7b0ae640f59842229f6c3353da3c07ca": {
          "model_module": "@jupyter-widgets/controls",
          "model_name": "FloatProgressModel",
          "model_module_version": "1.5.0",
          "state": {
            "_dom_classes": [],
            "_model_module": "@jupyter-widgets/controls",
            "_model_module_version": "1.5.0",
            "_model_name": "FloatProgressModel",
            "_view_count": null,
            "_view_module": "@jupyter-widgets/controls",
            "_view_module_version": "1.5.0",
            "_view_name": "ProgressView",
            "bar_style": "success",
            "description": "",
            "description_tooltip": null,
            "layout": "IPY_MODEL_0212fd1dab3b45bb9688295ed189cf88",
            "max": 54,
            "min": 0,
            "orientation": "horizontal",
            "style": "IPY_MODEL_66256db351a6452c86ce0b96c20c2216",
            "value": 54
          }
        },
        "f7029bb3b873489584cad89ef1d93a71": {
          "model_module": "@jupyter-widgets/controls",
          "model_name": "HTMLModel",
          "model_module_version": "1.5.0",
          "state": {
            "_dom_classes": [],
            "_model_module": "@jupyter-widgets/controls",
            "_model_module_version": "1.5.0",
            "_model_name": "HTMLModel",
            "_view_count": null,
            "_view_module": "@jupyter-widgets/controls",
            "_view_module_version": "1.5.0",
            "_view_name": "HTMLView",
            "description": "",
            "description_tooltip": null,
            "layout": "IPY_MODEL_4b1c49c292b4475b9bad567bf8e0c66d",
            "placeholder": "​",
            "style": "IPY_MODEL_2dabf879e1464979b203da510e63fb01",
            "value": " 54/54 [00:00&lt;00:00, 2086.64 examples/s]"
          }
        },
        "84efdbb372da45b6beccc2246e57806c": {
          "model_module": "@jupyter-widgets/base",
          "model_name": "LayoutModel",
          "model_module_version": "1.2.0",
          "state": {
            "_model_module": "@jupyter-widgets/base",
            "_model_module_version": "1.2.0",
            "_model_name": "LayoutModel",
            "_view_count": null,
            "_view_module": "@jupyter-widgets/base",
            "_view_module_version": "1.2.0",
            "_view_name": "LayoutView",
            "align_content": null,
            "align_items": null,
            "align_self": null,
            "border": null,
            "bottom": null,
            "display": null,
            "flex": null,
            "flex_flow": null,
            "grid_area": null,
            "grid_auto_columns": null,
            "grid_auto_flow": null,
            "grid_auto_rows": null,
            "grid_column": null,
            "grid_gap": null,
            "grid_row": null,
            "grid_template_areas": null,
            "grid_template_columns": null,
            "grid_template_rows": null,
            "height": null,
            "justify_content": null,
            "justify_items": null,
            "left": null,
            "margin": null,
            "max_height": null,
            "max_width": null,
            "min_height": null,
            "min_width": null,
            "object_fit": null,
            "object_position": null,
            "order": null,
            "overflow": null,
            "overflow_x": null,
            "overflow_y": null,
            "padding": null,
            "right": null,
            "top": null,
            "visibility": null,
            "width": null
          }
        },
        "107f006a9e0844bfb4538237fcfb9541": {
          "model_module": "@jupyter-widgets/base",
          "model_name": "LayoutModel",
          "model_module_version": "1.2.0",
          "state": {
            "_model_module": "@jupyter-widgets/base",
            "_model_module_version": "1.2.0",
            "_model_name": "LayoutModel",
            "_view_count": null,
            "_view_module": "@jupyter-widgets/base",
            "_view_module_version": "1.2.0",
            "_view_name": "LayoutView",
            "align_content": null,
            "align_items": null,
            "align_self": null,
            "border": null,
            "bottom": null,
            "display": null,
            "flex": null,
            "flex_flow": null,
            "grid_area": null,
            "grid_auto_columns": null,
            "grid_auto_flow": null,
            "grid_auto_rows": null,
            "grid_column": null,
            "grid_gap": null,
            "grid_row": null,
            "grid_template_areas": null,
            "grid_template_columns": null,
            "grid_template_rows": null,
            "height": null,
            "justify_content": null,
            "justify_items": null,
            "left": null,
            "margin": null,
            "max_height": null,
            "max_width": null,
            "min_height": null,
            "min_width": null,
            "object_fit": null,
            "object_position": null,
            "order": null,
            "overflow": null,
            "overflow_x": null,
            "overflow_y": null,
            "padding": null,
            "right": null,
            "top": null,
            "visibility": null,
            "width": null
          }
        },
        "f094527df61643529196a5185de2f74b": {
          "model_module": "@jupyter-widgets/controls",
          "model_name": "DescriptionStyleModel",
          "model_module_version": "1.5.0",
          "state": {
            "_model_module": "@jupyter-widgets/controls",
            "_model_module_version": "1.5.0",
            "_model_name": "DescriptionStyleModel",
            "_view_count": null,
            "_view_module": "@jupyter-widgets/base",
            "_view_module_version": "1.2.0",
            "_view_name": "StyleView",
            "description_width": ""
          }
        },
        "0212fd1dab3b45bb9688295ed189cf88": {
          "model_module": "@jupyter-widgets/base",
          "model_name": "LayoutModel",
          "model_module_version": "1.2.0",
          "state": {
            "_model_module": "@jupyter-widgets/base",
            "_model_module_version": "1.2.0",
            "_model_name": "LayoutModel",
            "_view_count": null,
            "_view_module": "@jupyter-widgets/base",
            "_view_module_version": "1.2.0",
            "_view_name": "LayoutView",
            "align_content": null,
            "align_items": null,
            "align_self": null,
            "border": null,
            "bottom": null,
            "display": null,
            "flex": null,
            "flex_flow": null,
            "grid_area": null,
            "grid_auto_columns": null,
            "grid_auto_flow": null,
            "grid_auto_rows": null,
            "grid_column": null,
            "grid_gap": null,
            "grid_row": null,
            "grid_template_areas": null,
            "grid_template_columns": null,
            "grid_template_rows": null,
            "height": null,
            "justify_content": null,
            "justify_items": null,
            "left": null,
            "margin": null,
            "max_height": null,
            "max_width": null,
            "min_height": null,
            "min_width": null,
            "object_fit": null,
            "object_position": null,
            "order": null,
            "overflow": null,
            "overflow_x": null,
            "overflow_y": null,
            "padding": null,
            "right": null,
            "top": null,
            "visibility": null,
            "width": null
          }
        },
        "66256db351a6452c86ce0b96c20c2216": {
          "model_module": "@jupyter-widgets/controls",
          "model_name": "ProgressStyleModel",
          "model_module_version": "1.5.0",
          "state": {
            "_model_module": "@jupyter-widgets/controls",
            "_model_module_version": "1.5.0",
            "_model_name": "ProgressStyleModel",
            "_view_count": null,
            "_view_module": "@jupyter-widgets/base",
            "_view_module_version": "1.2.0",
            "_view_name": "StyleView",
            "bar_color": null,
            "description_width": ""
          }
        },
        "4b1c49c292b4475b9bad567bf8e0c66d": {
          "model_module": "@jupyter-widgets/base",
          "model_name": "LayoutModel",
          "model_module_version": "1.2.0",
          "state": {
            "_model_module": "@jupyter-widgets/base",
            "_model_module_version": "1.2.0",
            "_model_name": "LayoutModel",
            "_view_count": null,
            "_view_module": "@jupyter-widgets/base",
            "_view_module_version": "1.2.0",
            "_view_name": "LayoutView",
            "align_content": null,
            "align_items": null,
            "align_self": null,
            "border": null,
            "bottom": null,
            "display": null,
            "flex": null,
            "flex_flow": null,
            "grid_area": null,
            "grid_auto_columns": null,
            "grid_auto_flow": null,
            "grid_auto_rows": null,
            "grid_column": null,
            "grid_gap": null,
            "grid_row": null,
            "grid_template_areas": null,
            "grid_template_columns": null,
            "grid_template_rows": null,
            "height": null,
            "justify_content": null,
            "justify_items": null,
            "left": null,
            "margin": null,
            "max_height": null,
            "max_width": null,
            "min_height": null,
            "min_width": null,
            "object_fit": null,
            "object_position": null,
            "order": null,
            "overflow": null,
            "overflow_x": null,
            "overflow_y": null,
            "padding": null,
            "right": null,
            "top": null,
            "visibility": null,
            "width": null
          }
        },
        "2dabf879e1464979b203da510e63fb01": {
          "model_module": "@jupyter-widgets/controls",
          "model_name": "DescriptionStyleModel",
          "model_module_version": "1.5.0",
          "state": {
            "_model_module": "@jupyter-widgets/controls",
            "_model_module_version": "1.5.0",
            "_model_name": "DescriptionStyleModel",
            "_view_count": null,
            "_view_module": "@jupyter-widgets/base",
            "_view_module_version": "1.2.0",
            "_view_name": "StyleView",
            "description_width": ""
          }
        },
        "54f4e2f579e14ce8a6520f38c903274e": {
          "model_module": "@jupyter-widgets/controls",
          "model_name": "HBoxModel",
          "model_module_version": "1.5.0",
          "state": {
            "_dom_classes": [],
            "_model_module": "@jupyter-widgets/controls",
            "_model_module_version": "1.5.0",
            "_model_name": "HBoxModel",
            "_view_count": null,
            "_view_module": "@jupyter-widgets/controls",
            "_view_module_version": "1.5.0",
            "_view_name": "HBoxView",
            "box_style": "",
            "children": [
              "IPY_MODEL_fef5ebc459b04b5b98cedeca6bb01418",
              "IPY_MODEL_36207a1900284846bd60730d37638459",
              "IPY_MODEL_bd914d5bffb7416db8b5e887641cb89f"
            ],
            "layout": "IPY_MODEL_c95936b559024781b4aae788f79dc510"
          }
        },
        "fef5ebc459b04b5b98cedeca6bb01418": {
          "model_module": "@jupyter-widgets/controls",
          "model_name": "HTMLModel",
          "model_module_version": "1.5.0",
          "state": {
            "_dom_classes": [],
            "_model_module": "@jupyter-widgets/controls",
            "_model_module_version": "1.5.0",
            "_model_name": "HTMLModel",
            "_view_count": null,
            "_view_module": "@jupyter-widgets/controls",
            "_view_module_version": "1.5.0",
            "_view_name": "HTMLView",
            "description": "",
            "description_tooltip": null,
            "layout": "IPY_MODEL_f778f46ed93b4078a45285caed73a5af",
            "placeholder": "​",
            "style": "IPY_MODEL_5ca98603a0c942228c95bccf76cede90",
            "value": "Map: 100%"
          }
        },
        "36207a1900284846bd60730d37638459": {
          "model_module": "@jupyter-widgets/controls",
          "model_name": "FloatProgressModel",
          "model_module_version": "1.5.0",
          "state": {
            "_dom_classes": [],
            "_model_module": "@jupyter-widgets/controls",
            "_model_module_version": "1.5.0",
            "_model_name": "FloatProgressModel",
            "_view_count": null,
            "_view_module": "@jupyter-widgets/controls",
            "_view_module_version": "1.5.0",
            "_view_name": "ProgressView",
            "bar_style": "success",
            "description": "",
            "description_tooltip": null,
            "layout": "IPY_MODEL_49569b7a85db4b5a87ebb62f90435a3f",
            "max": 486,
            "min": 0,
            "orientation": "horizontal",
            "style": "IPY_MODEL_3de3fc29b6a04ce8860b0cb0316c24b5",
            "value": 486
          }
        },
        "bd914d5bffb7416db8b5e887641cb89f": {
          "model_module": "@jupyter-widgets/controls",
          "model_name": "HTMLModel",
          "model_module_version": "1.5.0",
          "state": {
            "_dom_classes": [],
            "_model_module": "@jupyter-widgets/controls",
            "_model_module_version": "1.5.0",
            "_model_name": "HTMLModel",
            "_view_count": null,
            "_view_module": "@jupyter-widgets/controls",
            "_view_module_version": "1.5.0",
            "_view_name": "HTMLView",
            "description": "",
            "description_tooltip": null,
            "layout": "IPY_MODEL_a31ef3a4cf8c4ef38a47e0d765faf6ed",
            "placeholder": "​",
            "style": "IPY_MODEL_4a1fbfc8b03749319be070f7f8ca98f2",
            "value": " 486/486 [00:00&lt;00:00, 903.62 examples/s]"
          }
        },
        "c95936b559024781b4aae788f79dc510": {
          "model_module": "@jupyter-widgets/base",
          "model_name": "LayoutModel",
          "model_module_version": "1.2.0",
          "state": {
            "_model_module": "@jupyter-widgets/base",
            "_model_module_version": "1.2.0",
            "_model_name": "LayoutModel",
            "_view_count": null,
            "_view_module": "@jupyter-widgets/base",
            "_view_module_version": "1.2.0",
            "_view_name": "LayoutView",
            "align_content": null,
            "align_items": null,
            "align_self": null,
            "border": null,
            "bottom": null,
            "display": null,
            "flex": null,
            "flex_flow": null,
            "grid_area": null,
            "grid_auto_columns": null,
            "grid_auto_flow": null,
            "grid_auto_rows": null,
            "grid_column": null,
            "grid_gap": null,
            "grid_row": null,
            "grid_template_areas": null,
            "grid_template_columns": null,
            "grid_template_rows": null,
            "height": null,
            "justify_content": null,
            "justify_items": null,
            "left": null,
            "margin": null,
            "max_height": null,
            "max_width": null,
            "min_height": null,
            "min_width": null,
            "object_fit": null,
            "object_position": null,
            "order": null,
            "overflow": null,
            "overflow_x": null,
            "overflow_y": null,
            "padding": null,
            "right": null,
            "top": null,
            "visibility": null,
            "width": null
          }
        },
        "f778f46ed93b4078a45285caed73a5af": {
          "model_module": "@jupyter-widgets/base",
          "model_name": "LayoutModel",
          "model_module_version": "1.2.0",
          "state": {
            "_model_module": "@jupyter-widgets/base",
            "_model_module_version": "1.2.0",
            "_model_name": "LayoutModel",
            "_view_count": null,
            "_view_module": "@jupyter-widgets/base",
            "_view_module_version": "1.2.0",
            "_view_name": "LayoutView",
            "align_content": null,
            "align_items": null,
            "align_self": null,
            "border": null,
            "bottom": null,
            "display": null,
            "flex": null,
            "flex_flow": null,
            "grid_area": null,
            "grid_auto_columns": null,
            "grid_auto_flow": null,
            "grid_auto_rows": null,
            "grid_column": null,
            "grid_gap": null,
            "grid_row": null,
            "grid_template_areas": null,
            "grid_template_columns": null,
            "grid_template_rows": null,
            "height": null,
            "justify_content": null,
            "justify_items": null,
            "left": null,
            "margin": null,
            "max_height": null,
            "max_width": null,
            "min_height": null,
            "min_width": null,
            "object_fit": null,
            "object_position": null,
            "order": null,
            "overflow": null,
            "overflow_x": null,
            "overflow_y": null,
            "padding": null,
            "right": null,
            "top": null,
            "visibility": null,
            "width": null
          }
        },
        "5ca98603a0c942228c95bccf76cede90": {
          "model_module": "@jupyter-widgets/controls",
          "model_name": "DescriptionStyleModel",
          "model_module_version": "1.5.0",
          "state": {
            "_model_module": "@jupyter-widgets/controls",
            "_model_module_version": "1.5.0",
            "_model_name": "DescriptionStyleModel",
            "_view_count": null,
            "_view_module": "@jupyter-widgets/base",
            "_view_module_version": "1.2.0",
            "_view_name": "StyleView",
            "description_width": ""
          }
        },
        "49569b7a85db4b5a87ebb62f90435a3f": {
          "model_module": "@jupyter-widgets/base",
          "model_name": "LayoutModel",
          "model_module_version": "1.2.0",
          "state": {
            "_model_module": "@jupyter-widgets/base",
            "_model_module_version": "1.2.0",
            "_model_name": "LayoutModel",
            "_view_count": null,
            "_view_module": "@jupyter-widgets/base",
            "_view_module_version": "1.2.0",
            "_view_name": "LayoutView",
            "align_content": null,
            "align_items": null,
            "align_self": null,
            "border": null,
            "bottom": null,
            "display": null,
            "flex": null,
            "flex_flow": null,
            "grid_area": null,
            "grid_auto_columns": null,
            "grid_auto_flow": null,
            "grid_auto_rows": null,
            "grid_column": null,
            "grid_gap": null,
            "grid_row": null,
            "grid_template_areas": null,
            "grid_template_columns": null,
            "grid_template_rows": null,
            "height": null,
            "justify_content": null,
            "justify_items": null,
            "left": null,
            "margin": null,
            "max_height": null,
            "max_width": null,
            "min_height": null,
            "min_width": null,
            "object_fit": null,
            "object_position": null,
            "order": null,
            "overflow": null,
            "overflow_x": null,
            "overflow_y": null,
            "padding": null,
            "right": null,
            "top": null,
            "visibility": null,
            "width": null
          }
        },
        "3de3fc29b6a04ce8860b0cb0316c24b5": {
          "model_module": "@jupyter-widgets/controls",
          "model_name": "ProgressStyleModel",
          "model_module_version": "1.5.0",
          "state": {
            "_model_module": "@jupyter-widgets/controls",
            "_model_module_version": "1.5.0",
            "_model_name": "ProgressStyleModel",
            "_view_count": null,
            "_view_module": "@jupyter-widgets/base",
            "_view_module_version": "1.2.0",
            "_view_name": "StyleView",
            "bar_color": null,
            "description_width": ""
          }
        },
        "a31ef3a4cf8c4ef38a47e0d765faf6ed": {
          "model_module": "@jupyter-widgets/base",
          "model_name": "LayoutModel",
          "model_module_version": "1.2.0",
          "state": {
            "_model_module": "@jupyter-widgets/base",
            "_model_module_version": "1.2.0",
            "_model_name": "LayoutModel",
            "_view_count": null,
            "_view_module": "@jupyter-widgets/base",
            "_view_module_version": "1.2.0",
            "_view_name": "LayoutView",
            "align_content": null,
            "align_items": null,
            "align_self": null,
            "border": null,
            "bottom": null,
            "display": null,
            "flex": null,
            "flex_flow": null,
            "grid_area": null,
            "grid_auto_columns": null,
            "grid_auto_flow": null,
            "grid_auto_rows": null,
            "grid_column": null,
            "grid_gap": null,
            "grid_row": null,
            "grid_template_areas": null,
            "grid_template_columns": null,
            "grid_template_rows": null,
            "height": null,
            "justify_content": null,
            "justify_items": null,
            "left": null,
            "margin": null,
            "max_height": null,
            "max_width": null,
            "min_height": null,
            "min_width": null,
            "object_fit": null,
            "object_position": null,
            "order": null,
            "overflow": null,
            "overflow_x": null,
            "overflow_y": null,
            "padding": null,
            "right": null,
            "top": null,
            "visibility": null,
            "width": null
          }
        },
        "4a1fbfc8b03749319be070f7f8ca98f2": {
          "model_module": "@jupyter-widgets/controls",
          "model_name": "DescriptionStyleModel",
          "model_module_version": "1.5.0",
          "state": {
            "_model_module": "@jupyter-widgets/controls",
            "_model_module_version": "1.5.0",
            "_model_name": "DescriptionStyleModel",
            "_view_count": null,
            "_view_module": "@jupyter-widgets/base",
            "_view_module_version": "1.2.0",
            "_view_name": "StyleView",
            "description_width": ""
          }
        },
        "05f7ac16a5ff4309a30c1753e76e5b94": {
          "model_module": "@jupyter-widgets/controls",
          "model_name": "HBoxModel",
          "model_module_version": "1.5.0",
          "state": {
            "_dom_classes": [],
            "_model_module": "@jupyter-widgets/controls",
            "_model_module_version": "1.5.0",
            "_model_name": "HBoxModel",
            "_view_count": null,
            "_view_module": "@jupyter-widgets/controls",
            "_view_module_version": "1.5.0",
            "_view_name": "HBoxView",
            "box_style": "",
            "children": [
              "IPY_MODEL_adde7037b95744eb85739942d9b5f15c",
              "IPY_MODEL_c2bded3834f546a88c9bf34b87ffafdf",
              "IPY_MODEL_f4dec4205ad2493c8d2eaee10cd449a1"
            ],
            "layout": "IPY_MODEL_edd047305df8497bab605767acc944a4"
          }
        },
        "adde7037b95744eb85739942d9b5f15c": {
          "model_module": "@jupyter-widgets/controls",
          "model_name": "HTMLModel",
          "model_module_version": "1.5.0",
          "state": {
            "_dom_classes": [],
            "_model_module": "@jupyter-widgets/controls",
            "_model_module_version": "1.5.0",
            "_model_name": "HTMLModel",
            "_view_count": null,
            "_view_module": "@jupyter-widgets/controls",
            "_view_module_version": "1.5.0",
            "_view_name": "HTMLView",
            "description": "",
            "description_tooltip": null,
            "layout": "IPY_MODEL_7b96c52f10524c44949aa22d9894949b",
            "placeholder": "​",
            "style": "IPY_MODEL_cdbfa2e8118241fe84b6b2368019b65f",
            "value": "Map: 100%"
          }
        },
        "c2bded3834f546a88c9bf34b87ffafdf": {
          "model_module": "@jupyter-widgets/controls",
          "model_name": "FloatProgressModel",
          "model_module_version": "1.5.0",
          "state": {
            "_dom_classes": [],
            "_model_module": "@jupyter-widgets/controls",
            "_model_module_version": "1.5.0",
            "_model_name": "FloatProgressModel",
            "_view_count": null,
            "_view_module": "@jupyter-widgets/controls",
            "_view_module_version": "1.5.0",
            "_view_name": "ProgressView",
            "bar_style": "success",
            "description": "",
            "description_tooltip": null,
            "layout": "IPY_MODEL_d767baaff7b343a596192df35f0ebce7",
            "max": 54,
            "min": 0,
            "orientation": "horizontal",
            "style": "IPY_MODEL_ce92ba0e3d1d411f876b992072f17c05",
            "value": 54
          }
        },
        "f4dec4205ad2493c8d2eaee10cd449a1": {
          "model_module": "@jupyter-widgets/controls",
          "model_name": "HTMLModel",
          "model_module_version": "1.5.0",
          "state": {
            "_dom_classes": [],
            "_model_module": "@jupyter-widgets/controls",
            "_model_module_version": "1.5.0",
            "_model_name": "HTMLModel",
            "_view_count": null,
            "_view_module": "@jupyter-widgets/controls",
            "_view_module_version": "1.5.0",
            "_view_name": "HTMLView",
            "description": "",
            "description_tooltip": null,
            "layout": "IPY_MODEL_b474b8871ea2405c8816809e623a162b",
            "placeholder": "​",
            "style": "IPY_MODEL_841273f3f8c84190ba81778c969b4bba",
            "value": " 54/54 [00:00&lt;00:00, 634.52 examples/s]"
          }
        },
        "edd047305df8497bab605767acc944a4": {
          "model_module": "@jupyter-widgets/base",
          "model_name": "LayoutModel",
          "model_module_version": "1.2.0",
          "state": {
            "_model_module": "@jupyter-widgets/base",
            "_model_module_version": "1.2.0",
            "_model_name": "LayoutModel",
            "_view_count": null,
            "_view_module": "@jupyter-widgets/base",
            "_view_module_version": "1.2.0",
            "_view_name": "LayoutView",
            "align_content": null,
            "align_items": null,
            "align_self": null,
            "border": null,
            "bottom": null,
            "display": null,
            "flex": null,
            "flex_flow": null,
            "grid_area": null,
            "grid_auto_columns": null,
            "grid_auto_flow": null,
            "grid_auto_rows": null,
            "grid_column": null,
            "grid_gap": null,
            "grid_row": null,
            "grid_template_areas": null,
            "grid_template_columns": null,
            "grid_template_rows": null,
            "height": null,
            "justify_content": null,
            "justify_items": null,
            "left": null,
            "margin": null,
            "max_height": null,
            "max_width": null,
            "min_height": null,
            "min_width": null,
            "object_fit": null,
            "object_position": null,
            "order": null,
            "overflow": null,
            "overflow_x": null,
            "overflow_y": null,
            "padding": null,
            "right": null,
            "top": null,
            "visibility": null,
            "width": null
          }
        },
        "7b96c52f10524c44949aa22d9894949b": {
          "model_module": "@jupyter-widgets/base",
          "model_name": "LayoutModel",
          "model_module_version": "1.2.0",
          "state": {
            "_model_module": "@jupyter-widgets/base",
            "_model_module_version": "1.2.0",
            "_model_name": "LayoutModel",
            "_view_count": null,
            "_view_module": "@jupyter-widgets/base",
            "_view_module_version": "1.2.0",
            "_view_name": "LayoutView",
            "align_content": null,
            "align_items": null,
            "align_self": null,
            "border": null,
            "bottom": null,
            "display": null,
            "flex": null,
            "flex_flow": null,
            "grid_area": null,
            "grid_auto_columns": null,
            "grid_auto_flow": null,
            "grid_auto_rows": null,
            "grid_column": null,
            "grid_gap": null,
            "grid_row": null,
            "grid_template_areas": null,
            "grid_template_columns": null,
            "grid_template_rows": null,
            "height": null,
            "justify_content": null,
            "justify_items": null,
            "left": null,
            "margin": null,
            "max_height": null,
            "max_width": null,
            "min_height": null,
            "min_width": null,
            "object_fit": null,
            "object_position": null,
            "order": null,
            "overflow": null,
            "overflow_x": null,
            "overflow_y": null,
            "padding": null,
            "right": null,
            "top": null,
            "visibility": null,
            "width": null
          }
        },
        "cdbfa2e8118241fe84b6b2368019b65f": {
          "model_module": "@jupyter-widgets/controls",
          "model_name": "DescriptionStyleModel",
          "model_module_version": "1.5.0",
          "state": {
            "_model_module": "@jupyter-widgets/controls",
            "_model_module_version": "1.5.0",
            "_model_name": "DescriptionStyleModel",
            "_view_count": null,
            "_view_module": "@jupyter-widgets/base",
            "_view_module_version": "1.2.0",
            "_view_name": "StyleView",
            "description_width": ""
          }
        },
        "d767baaff7b343a596192df35f0ebce7": {
          "model_module": "@jupyter-widgets/base",
          "model_name": "LayoutModel",
          "model_module_version": "1.2.0",
          "state": {
            "_model_module": "@jupyter-widgets/base",
            "_model_module_version": "1.2.0",
            "_model_name": "LayoutModel",
            "_view_count": null,
            "_view_module": "@jupyter-widgets/base",
            "_view_module_version": "1.2.0",
            "_view_name": "LayoutView",
            "align_content": null,
            "align_items": null,
            "align_self": null,
            "border": null,
            "bottom": null,
            "display": null,
            "flex": null,
            "flex_flow": null,
            "grid_area": null,
            "grid_auto_columns": null,
            "grid_auto_flow": null,
            "grid_auto_rows": null,
            "grid_column": null,
            "grid_gap": null,
            "grid_row": null,
            "grid_template_areas": null,
            "grid_template_columns": null,
            "grid_template_rows": null,
            "height": null,
            "justify_content": null,
            "justify_items": null,
            "left": null,
            "margin": null,
            "max_height": null,
            "max_width": null,
            "min_height": null,
            "min_width": null,
            "object_fit": null,
            "object_position": null,
            "order": null,
            "overflow": null,
            "overflow_x": null,
            "overflow_y": null,
            "padding": null,
            "right": null,
            "top": null,
            "visibility": null,
            "width": null
          }
        },
        "ce92ba0e3d1d411f876b992072f17c05": {
          "model_module": "@jupyter-widgets/controls",
          "model_name": "ProgressStyleModel",
          "model_module_version": "1.5.0",
          "state": {
            "_model_module": "@jupyter-widgets/controls",
            "_model_module_version": "1.5.0",
            "_model_name": "ProgressStyleModel",
            "_view_count": null,
            "_view_module": "@jupyter-widgets/base",
            "_view_module_version": "1.2.0",
            "_view_name": "StyleView",
            "bar_color": null,
            "description_width": ""
          }
        },
        "b474b8871ea2405c8816809e623a162b": {
          "model_module": "@jupyter-widgets/base",
          "model_name": "LayoutModel",
          "model_module_version": "1.2.0",
          "state": {
            "_model_module": "@jupyter-widgets/base",
            "_model_module_version": "1.2.0",
            "_model_name": "LayoutModel",
            "_view_count": null,
            "_view_module": "@jupyter-widgets/base",
            "_view_module_version": "1.2.0",
            "_view_name": "LayoutView",
            "align_content": null,
            "align_items": null,
            "align_self": null,
            "border": null,
            "bottom": null,
            "display": null,
            "flex": null,
            "flex_flow": null,
            "grid_area": null,
            "grid_auto_columns": null,
            "grid_auto_flow": null,
            "grid_auto_rows": null,
            "grid_column": null,
            "grid_gap": null,
            "grid_row": null,
            "grid_template_areas": null,
            "grid_template_columns": null,
            "grid_template_rows": null,
            "height": null,
            "justify_content": null,
            "justify_items": null,
            "left": null,
            "margin": null,
            "max_height": null,
            "max_width": null,
            "min_height": null,
            "min_width": null,
            "object_fit": null,
            "object_position": null,
            "order": null,
            "overflow": null,
            "overflow_x": null,
            "overflow_y": null,
            "padding": null,
            "right": null,
            "top": null,
            "visibility": null,
            "width": null
          }
        },
        "841273f3f8c84190ba81778c969b4bba": {
          "model_module": "@jupyter-widgets/controls",
          "model_name": "DescriptionStyleModel",
          "model_module_version": "1.5.0",
          "state": {
            "_model_module": "@jupyter-widgets/controls",
            "_model_module_version": "1.5.0",
            "_model_name": "DescriptionStyleModel",
            "_view_count": null,
            "_view_module": "@jupyter-widgets/base",
            "_view_module_version": "1.2.0",
            "_view_name": "StyleView",
            "description_width": ""
          }
        }
      }
    }
  },
  "nbformat": 4,
  "nbformat_minor": 5
}